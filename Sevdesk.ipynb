{
 "cells": [
  {
   "cell_type": "code",
   "execution_count": 1,
   "metadata": {},
   "outputs": [],
   "source": [
    "import requests\n",
    "import json\n",
    "import pandas as pd\n",
    "from datetime import datetime\n",
    "import numpy as np\n",
    "import seaborn as sns\n",
    "from matplotlib import pyplot as plt\n",
    "from pandas.io.json import json_normalize"
   ]
  },
  {
   "cell_type": "code",
   "execution_count": 2,
   "metadata": {},
   "outputs": [],
   "source": [
    "# we use the requests and json package\n",
    "import requests\n",
    "import json\n",
    "\n",
    "# define request headers\n",
    "headers = {'Authorization': '3d4d4baef06e48b9eb4aa0a9f320a527',\n",
    "           'Content-Type': 'application/x-www-form-urlencoded'}\n",
    "# we got the url from the swagger documentation.\n",
    "# it's also possible to pass parameters as '?limit=10&embed=contact' to the url, to limit the response array or to embed referenced objects\n",
    "url = \"https://my.sevdesk.de/api/v1/Invoice/?limit=10000000000\"\n",
    "\n",
    "# create the request, for sake of simplicity error handling is omitted here\n",
    "response = requests.get(url, headers = headers)\n",
    "\n",
    "# parse the json\n",
    "json = json.loads(response.content)\n",
    "\n",
    "# get the invoice data from the root object\n",
    "invoices = json[\"objects\"]\n",
    "#Normalize semi-structured JSON data into a flat table\n",
    "invoices = json_normalize(invoices)\n",
    "\n",
    "invoices['address1'] = invoices['address'].apply(lambda x: x.rsplit(\"\\n\", 1)[-1])\n",
    "\n",
    "invoices.to_csv(r'C:\\Users\\Jegevara\\OneDrive\\Python\\invoices_adress.csv', index = False)"
   ]
  },
  {
   "cell_type": "code",
   "execution_count": 10,
   "metadata": {},
   "outputs": [],
   "source": [
    "# we use the requests and json package\n",
    "import requests\n",
    "import json\n",
    "\n",
    "# define request headers\n",
    "headers = {'Authorization': '3d4d4baef06e48b9eb4aa0a9f320a527',\n",
    "           'Content-Type': 'application/x-www-form-urlencoded'}\n",
    "\n",
    "# we got the url from the swagger documentation.\n",
    "# it's also possible to pass parameters as '?limit=10&embed=contact' to the url, to limit the response array or to embed referenced objects\n",
    "url = \"https://my.sevdesk.de/api/v1/Contact/?limit=10000000000\"\n",
    "\n",
    "# create the request, for sake of simplicity error handling is omitted here\n",
    "response = requests.get(url, headers = headers)\n",
    "\n",
    "# parse the json\n",
    "json = json.loads(response.content)\n",
    "\n",
    "# get the invoice data from the root object\n",
    "companies = json[\"objects\"]\n",
    "\n",
    "#Normalize semi-structured JSON data into a flat table\n",
    "companies = json_normalize(companies)\n",
    "companies.to_csv(r'C:\\Users\\Jegevara\\OneDrive\\Python\\companies.csv', index = False) "
   ]
  }
 ],
 "metadata": {
  "kernelspec": {
   "display_name": "Python 3",
   "language": "python",
   "name": "python3"
  },
  "language_info": {
   "codemirror_mode": {
    "name": "ipython",
    "version": 3
   },
   "file_extension": ".py",
   "mimetype": "text/x-python",
   "name": "python",
   "nbconvert_exporter": "python",
   "pygments_lexer": "ipython3",
   "version": "3.7.4"
  }
 },
 "nbformat": 4,
 "nbformat_minor": 4
}
